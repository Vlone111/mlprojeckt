{
  "cells": [
    {
      "cell_type": "markdown",
      "metadata": {
        "id": "M-DGa20PaHnu"
      },
      "source": [
        "#Задача 1\n",
        "Написать функцию на вход которой подается строка, состоящая из латинских букв.\n",
        "Функция должна вернуть количество гласных букв (a, e, i, o, u) в этой строке. Написать тесты для кода"
      ]
    },
    {
      "cell_type": "code",
      "execution_count": null,
      "metadata": {
        "id": "XvX8X_JJ6PCb"
      },
      "outputs": [],
      "source": [
        "def checker(strnote):\n",
        "   letters = ['a','e','i','o','u']\n",
        "   counter = 0\n",
        "   try:\n",
        "       for i in strnote:\n",
        "           if i.lower() in letters:\n",
        "               counter+=1\n",
        "       return counter\n",
        "   except:\n",
        "       return \"Неправильный ввод\"\n",
        "print(checker('qwedasdasdqw'))\n",
        "print(checker('Hello world!'))\n",
        "print(checker(10000000000))\n",
        "print(checker('1we'))"
      ]
    },
    {
      "cell_type": "markdown",
      "metadata": {},
      "source": [
        "3\n",
        "3\n",
        "Неправильный ввод\n",
        "1"
      ]
    },
    {
      "cell_type": "markdown",
      "metadata": {
        "id": "t2ClV_Y0bbr6"
      },
      "source": [
        "# Задача 2\n",
        "Написать функцию на вход, которой подается строка. Функция должна вернуть true, если\n",
        "каждый символ в строке встречается только 1 раз, иначе должна вернуть false. Написать тесты для кода"
      ]
    },
    {
      "cell_type": "code",
      "execution_count": null,
      "metadata": {
        "id": "FppbECao6VIz"
      },
      "outputs": [],
      "source": [
        "def isset(strnote):\n",
        "    try:\n",
        "        return len(strnote)==len(set(strnote))\n",
        "    except:\n",
        "        return \"Неправильный ввод\"\n",
        "print(isset(\"abcdef\"))    # True\n",
        "print(isset(\"hello\"))     # False\n",
        "print(isset(12345))  "
      ]
    },
    {
      "cell_type": "markdown",
      "metadata": {},
      "source": [
        "True\n",
        "False\n",
        "Неправильный ввод"
      ]
    },
    {
      "cell_type": "markdown",
      "metadata": {
        "id": "udRiIK1cdt6E"
      },
      "source": [
        "# Задача 3\n",
        "Написать функцию, которая принимает положительное число и возвращает количество\n",
        "бит равных 1 в этом числе. Написать тесты для кода"
      ]
    },
    {
      "cell_type": "code",
      "execution_count": null,
      "metadata": {
        "id": "6tkfDJRz6dp_"
      },
      "outputs": [],
      "source": [
        "def counter(number):\n",
        "    try:\n",
        "        return bin(number).count('1')\n",
        "    except:\n",
        "        return \"Неправильный Ввод\"\n",
        "print(counter(5))\n",
        "print(counter(2))\n",
        "print(counter('qweqweqwe'))"
      ]
    },
    {
      "cell_type": "markdown",
      "metadata": {},
      "source": [
        "2\n",
        "1\n",
        "Неправильный Ввод\n"
      ]
    },
    {
      "cell_type": "markdown",
      "metadata": {
        "id": "26dDUz-Ae17N"
      },
      "source": [
        "# Задача 4\n",
        "Написать функцию, которая принимает положительное число. Функция должна вернуть то,\n",
        "сколько раз необходимо перемножать цифры числа или результат перемножения, чтобы\n",
        "получилось число состоящее из одной цифры.\n",
        "Например, для входного числа:\n",
        "· 39 функция должна вернуть 3, так как 3*9=27 => 2*7=14 => 1*4=4\n",
        "· 4 функция должна вернуть 0, так как число уже состоит из одной цифры\n",
        "· 999 функция должна вернуть 4, так как 9*9*9=729 => 7*2*9=126 => 1*2*6=12 =>\n",
        "1*2=2. Написать тесты для кода"
      ]
    },
    {
      "cell_type": "code",
      "execution_count": null,
      "metadata": {
        "id": "BH1A_Mgi6i4G"
      },
      "outputs": [],
      "source": [
        "def magic(n):\n",
        "    counter = 0\n",
        "    while n>=10:\n",
        "        n = multi(n)\n",
        "        counter+=1\n",
        "    return counter\n",
        "def multi(numeral):\n",
        "    number = 1\n",
        "    for i in str(numeral):\n",
        "        number *= int(i)\n",
        "    return number\n",
        "print(magic(10))\n",
        "print(magic(2))\n",
        "print(magic(39))\n"
      ]
    },
    {
      "cell_type": "markdown",
      "metadata": {},
      "source": [
        "1\n",
        "0\n",
        "3"
      ]
    },
    {
      "cell_type": "markdown",
      "metadata": {
        "id": "0nS-kIa8g8vd"
      },
      "source": [
        "# Задача 5\n",
        "Написать функцию, которая принимает два целочисленных вектора одинаковой длины и\n",
        "возвращает среднеквадратическое отклонение двух векторов. Написать тесты для кода"
      ]
    },
    {
      "cell_type": "code",
      "execution_count": null,
      "metadata": {
        "id": "8iphx4LM6xbx"
      },
      "outputs": [],
      "source": [
        "import math\n",
        "def mse(vector1,vector2):\n",
        "    numbers = 0\n",
        "    for i in range(len(vector1)):\n",
        "        numbers+=math.pow(vector1[i]-vector2[i],2)\n",
        "    return math.sqrt(numbers/len(vector1))\n",
        "print(mse([1,2,3],[1,0,1]))\n",
        "print(mse([2,3,1],[2,2,1]))\n",
        "print(mse([3,2,3],[1,2,1]))"
      ]
    },
    {
      "cell_type": "markdown",
      "metadata": {},
      "source": [
        "1.632993161855452\n",
        "0.5773502691896257\n",
        "1.632993161855452\n"
      ]
    },
    {
      "cell_type": "markdown",
      "metadata": {
        "id": "vpIPKL439zkw"
      },
      "source": [
        "# Задача 6\n",
        "Написать функцию, принимающая целое положительное число. Функция должна вернуть\n",
        "строку вида “(n1**p1)(n2**p2)…(nk**pk)” представляющая разложение числа на простые\n",
        "множители (если pi == 1, то выводить только ni).\n",
        "Например, для числа 86240 функция должна вернуть “(2**5)(5)(7**2)(11)”. Написать тесты для кода"
      ]
    },
    {
      "cell_type": "code",
      "execution_count": null,
      "metadata": {
        "id": "pFebmcZk94Jw"
      },
      "outputs": [],
      "source": [
        "def is_prime(n):\n",
        "    if n<=1:\n",
        "        return False\n",
        "    for i in range(2,int(n**0.5)+1):\n",
        "        if n%i==0:\n",
        "            return False\n",
        "    return True\n",
        "\n",
        "\n",
        "def expansion(n):\n",
        "    multipliers = {}\n",
        "    for i in range(2,int(n**0.5)+1):\n",
        "        while n%i==0:\n",
        "            if i in multipliers:\n",
        "                multipliers[i]+=1\n",
        "            else:\n",
        "                multipliers[i]=1\n",
        "            n//=i\n",
        "    if n>1:\n",
        "        multipliers[n] = 1\n",
        "        \n",
        "    multipliers_str =\"\"\n",
        "    for key,value in multipliers.items():\n",
        "        if value > 1:\n",
        "            multipliers_str += f\"({key}**{value})\"\n",
        "        else:\n",
        "            multipliers_str += f\"({key})\"\n",
        "    return multipliers_str\n",
        "print(expansion(20))\n",
        "print(expansion(39))\n",
        "print(expansion(999))\n",
        "print(expansion(86240))\n"
      ]
    },
    {
      "cell_type": "markdown",
      "metadata": {},
      "source": [
        "(2**2)(5)\n",
        "(3)(13)\n",
        "(3**3)(37)\n",
        "(2**5)(5)(7**2)(11)"
      ]
    },
    {
      "cell_type": "markdown",
      "metadata": {
        "id": "ps2s0BudX7A2"
      },
      "source": [
        "# Задача 7\n",
        "Написать функцию, принимающая целое число n, задающее количество кубиков. Функция\n",
        "должна определить, можно ли из данного кол-ва кубиков построить пирамиду, то есть\n",
        "можно ли представить число n как 1^2+2^2+3^2+…+k^2. Если можно, то функция должна\n",
        "вернуть k, иначе строку “It is impossible”. Написать тесты для кода"
      ]
    },
    {
      "cell_type": "code",
      "execution_count": null,
      "metadata": {
        "id": "3YPjEXxhX_YT"
      },
      "outputs": [],
      "source": [
        "def pyramid(n):\n",
        "    k = 0\n",
        "    sum_of_squares = 0\n",
        "    while True:\n",
        "        k += 1\n",
        "        sum_of_squares = (k * (k + 1) * (2 * k + 1)) // 6\n",
        "        if sum_of_squares == n:\n",
        "            return k\n",
        "        elif sum_of_squares > n:\n",
        "            break\n",
        "    return 'It is impossible'\n",
        "\n",
        "\n",
        "print(pyramid(5))\n",
        "print(pyramid(14))\n",
        "print(pyramid(30))\n"
      ]
    },
    {
      "cell_type": "markdown",
      "metadata": {},
      "source": [
        "2\n",
        "1\n",
        "It is impossible\n",
        "It is impossible\n",
        "7"
      ]
    },
    {
      "cell_type": "markdown",
      "metadata": {
        "id": "KeKgmIdAQMEJ"
      },
      "source": [
        "# Задача 8\n",
        "Функция принимает на вход положительное число и определяет является ли оно сбалансированным, т.е. сумма цифр до средних равна сумме цифр после. Средними в случае нечетного числа цифр считать одну цифру, в случае четного - две средних. Написать тесты для кода"
      ]
    },
    {
      "cell_type": "code",
      "execution_count": null,
      "metadata": {
        "id": "gMAAqtqlQrZt"
      },
      "outputs": [],
      "source": [
        "def overall(n):\n",
        "    str_n = str(n)\n",
        "    n1 = ''\n",
        "    n2 = ''\n",
        "    if len(str_n)%2==0:\n",
        "        n1 = str_n[:len(str_n)//2]\n",
        "        n2 = str_n[len(str_n)//2:]\n",
        "    else:\n",
        "        n1 = str_n[:len(str_n)//2]\n",
        "        n2 = str_n[(len(str_n) // 2)+1:]\n",
        "    return sum(n1)==sum(n2)\n",
        "def sum(n):\n",
        "    result = 0\n",
        "    for i in n:\n",
        "        result += int(i)\n",
        "    return result\n",
        "\n",
        "print(overall(2222212313131))\n",
        "print(overall(123321))\n",
        "print(overall(111))\n"
      ]
    },
    {
      "cell_type": "markdown",
      "metadata": {},
      "source": [
        "False\n",
        "True\n",
        "True\n"
      ]
    }
  ],
  "metadata": {
    "colab": {
      "provenance": []
    },
    "kernelspec": {
      "display_name": "Python 3",
      "name": "python3"
    },
    "language_info": {
      "name": "python"
    }
  },
  "nbformat": 4,
  "nbformat_minor": 0
}
